{
  "nbformat": 4,
  "nbformat_minor": 0,
  "metadata": {
    "colab": {
      "name": "Imbalanced Classification with Weighted Loss.ipynb",
      "provenance": [],
      "mount_file_id": "1T0qsYLy35cjp6QDfebD2_gY-EwtVPA_W",
      "authorship_tag": "ABX9TyOxIVtfCt9gBNmYhTZkQDfw",
      "include_colab_link": true
    },
    "kernelspec": {
      "name": "python3",
      "display_name": "Python 3"
    },
    "accelerator": "GPU"
  },
  "cells": [
    {
      "cell_type": "markdown",
      "metadata": {
        "id": "view-in-github",
        "colab_type": "text"
      },
      "source": [
        "<a href=\"https://colab.research.google.com/github/VincentK1991/Deep_Learning_Misc/blob/master/imbalanced_classification/Imbalanced_Classification_with_Weighted_Loss.ipynb\" target=\"_parent\"><img src=\"https://colab.research.google.com/assets/colab-badge.svg\" alt=\"Open In Colab\"/></a>"
      ]
    },
    {
      "cell_type": "markdown",
      "metadata": {
        "id": "w9ZiBqs8syvz",
        "colab_type": "text"
      },
      "source": [
        "# Get Packages"
      ]
    },
    {
      "cell_type": "code",
      "metadata": {
        "id": "s-35oO15so6y",
        "colab_type": "code",
        "colab": {
          "base_uri": "https://localhost:8080/",
          "height": 35
        },
        "outputId": "b683903f-7326-4816-fd92-8e86cc9e4ca0"
      },
      "source": [
        "%cd '/content/drive/My Drive/Colab Notebooks/Pymc3/Pyro/fraud_detection'"
      ],
      "execution_count": 1,
      "outputs": [
        {
          "output_type": "stream",
          "text": [
            "/content/drive/My Drive/Colab Notebooks/Pymc3/Pyro/fraud_detection\n"
          ],
          "name": "stdout"
        }
      ]
    },
    {
      "cell_type": "code",
      "metadata": {
        "id": "S2aPhXQqtHK8",
        "colab_type": "code",
        "colab": {
          "base_uri": "https://localhost:8080/",
          "height": 106
        },
        "outputId": "160d9ced-0e5e-43e6-f93e-829cea8e1603"
      },
      "source": [
        "import pandas as pd\n",
        "import numpy as np\n",
        "import matplotlib.pyplot as plt\n",
        "import torch\n",
        "import json\n",
        "import seaborn as sns\n",
        "import torch.nn as nn\n",
        "import torch.nn.functional as F\n",
        "from torch.utils.data import TensorDataset, DataLoader\n",
        "from sklearn.model_selection import train_test_split\n",
        "import timeit\n",
        "from sklearn.preprocessing import scale\n",
        "if torch.cuda.is_available():    \n",
        "    # Tell PyTorch to use the GPU.    \n",
        "    device = torch.device(\"cuda\")\n",
        "    print('There are %d GPU(s) available.' % torch.cuda.device_count())\n",
        "    print('We will use the GPU:', torch.cuda.get_device_name(0)) #hopefully we get Tesla P100 \n",
        "# If not...\n",
        "else:\n",
        "    print('No GPU available, using the CPU instead.')\n",
        "    device = torch.device(\"cpu\")"
      ],
      "execution_count": 2,
      "outputs": [
        {
          "output_type": "stream",
          "text": [
            "/usr/local/lib/python3.6/dist-packages/statsmodels/tools/_testing.py:19: FutureWarning: pandas.util.testing is deprecated. Use the functions in the public API at pandas.testing instead.\n",
            "  import pandas.util.testing as tm\n"
          ],
          "name": "stderr"
        },
        {
          "output_type": "stream",
          "text": [
            "There are 1 GPU(s) available.\n",
            "We will use the GPU: Tesla P100-PCIE-16GB\n"
          ],
          "name": "stdout"
        }
      ]
    },
    {
      "cell_type": "markdown",
      "metadata": {
        "id": "tsr-0G5rtJft",
        "colab_type": "text"
      },
      "source": [
        "# Get dataset\n",
        "\n",
        "The dataset you can download from https://www.kaggle.com/mlg-ulb/creditcardfraud\n",
        "\n",
        "- we will transform the data through sigmoid function.\n",
        "\n",
        "- build a dataloader with batch size = 4096"
      ]
    },
    {
      "cell_type": "code",
      "metadata": {
        "id": "DcWONI9HtJEz",
        "colab_type": "code",
        "colab": {}
      },
      "source": [
        "fraud_data = pd.read_csv('fraud_data.csv')\n",
        "fraud_data['Amount'] = scale(fraud_data['Amount'])"
      ],
      "execution_count": 3,
      "outputs": []
    },
    {
      "cell_type": "code",
      "metadata": {
        "id": "BKcsRSOStob_",
        "colab_type": "code",
        "colab": {}
      },
      "source": [
        "list_columns = list(fraud_data.columns[1:-1])\n",
        "X_train, X_val, y_train, y_val = train_test_split(fraud_data[list_columns].values,fraud_data['Class'].values , test_size=0.2, random_state=42)\n",
        "tensor_X_train = torch.tensor(X_train.astype(np.float32))\n",
        "tensor_X_val = torch.tensor(X_val.astype(np.float32))\n",
        "tensor_y_train = torch.tensor(y_train.astype(np.float32))\n",
        "tensor_y_val = torch.tensor(y_val.astype(np.float32))\n",
        "tensor_X_train = torch.sigmoid(tensor_X_train)\n",
        "tensor_X_val = torch.sigmoid(tensor_X_val)"
      ],
      "execution_count": 4,
      "outputs": []
    },
    {
      "cell_type": "code",
      "metadata": {
        "id": "0XXjSARNucyp",
        "colab_type": "code",
        "colab": {}
      },
      "source": [
        "train_data = TensorDataset(tensor_X_train,tensor_y_train)\n",
        "val_data = TensorDataset(tensor_X_val,tensor_y_val)\n",
        "\n",
        "train_dataloader = DataLoader(train_data,batch_size=4096,shuffle=True)\n",
        "val_dataloader = DataLoader(val_data,batch_size=4096,shuffle=True)"
      ],
      "execution_count": 6,
      "outputs": []
    },
    {
      "cell_type": "markdown",
      "metadata": {
        "id": "-fXuCGLhwpM6",
        "colab_type": "text"
      },
      "source": [
        "# Write helper function\n",
        "\n",
        "- train batch\n",
        "- validate batch\n",
        "- measuring scores"
      ]
    },
    {
      "cell_type": "code",
      "metadata": {
        "id": "jW4kigAixU3z",
        "colab_type": "code",
        "colab": {}
      },
      "source": [
        "def score_metrices(predict,ground):\n",
        "  \"\"\"\n",
        "  precision = true pos/(true pos + false pos) = true pos/(total predicted pos)\n",
        "  recall = true pos/(true pos + false neg) = true pos/(total actual pos)\n",
        "  F1 =   2*(precision*recall)/(precision + recall)\n",
        "\n",
        "  TODO: handle divide by 0 (in case actual positive class = 0)\n",
        "  \"\"\"\n",
        "  predict = predict.detach().cpu().numpy()\n",
        "  ground = ground.detach().cpu().numpy()\n",
        "  predict = predict.astype(int)\n",
        "  ground = ground.astype(int)\n",
        "\n",
        "  true_pos = float(np.sum(np.where((predict == ground) & (ground == 1),1,0)))\n",
        "  total_predicted_pos = np.sum(predict)\n",
        "  #print('predicted positive', total_predicted_pos)\n",
        "  precision = true_pos/(total_predicted_pos + 1e-8)\n",
        "\n",
        "  total_actual_pos = np.sum(ground)\n",
        "  #print('actual positive ', total_actual_pos)\n",
        "  recall = true_pos/(total_actual_pos + 1e-8)\n",
        "  F1 = 2*(precision*recall)/(precision + recall + 1e-8)\n",
        "  return precision, recall, F1"
      ],
      "execution_count": 7,
      "outputs": []
    },
    {
      "cell_type": "code",
      "metadata": {
        "id": "2NiViX8GyOci",
        "colab_type": "code",
        "colab": {}
      },
      "source": [
        "weight_class_0 = 0.001727486\n",
        "weight_class_1 = 0.998272514"
      ],
      "execution_count": 8,
      "outputs": []
    },
    {
      "cell_type": "code",
      "metadata": {
        "id": "TeRMCuBCxVkD",
        "colab_type": "code",
        "colab": {}
      },
      "source": [
        "def train(batch):\n",
        "  optimizer.zero_grad()\n",
        "  x,y = batch\n",
        "  x,y = x.to(device), y.to(device)\n",
        "  y = y.unsqueeze(1)\n",
        "  predict = classifier(x)\n",
        "  predict = torch.nn.functional.softmax(predict,dim=0)\n",
        "  #x,y = x.cpu(), y.cpu()\n",
        "  weights = torch.where(y ==0,torch.tensor(weight_class_0).to(device),torch.tensor(weight_class_1).to(device))\n",
        "  weights = weights.squeeze(1)\n",
        "\n",
        "  y = y.squeeze(1)\n",
        "\n",
        "  loss = criterion(predict,y.type(torch.long))\n",
        "  weighted_loss = loss * weights\n",
        "  weighted_loss = torch.mean(weighted_loss)\n",
        "\n",
        "  weighted_loss.backward()\n",
        "  optimizer.step()\n",
        "  predict_class = torch.argmax(predict,dim=1)\n",
        "  #print(predict_class)\n",
        "  batch_precision, batch_recall, batch_F1 = score_metrices(predict_class,y)\n",
        "\n",
        "  return weighted_loss, batch_precision, batch_recall, batch_F1\n",
        "\n",
        "def validate(batch):\n",
        "  x,y = batch\n",
        "  x,y = x.to(device), y.to(device)\n",
        "  y = y.unsqueeze(1)\n",
        "  weights = torch.where(y ==0,torch.tensor(weight_class_0).to(device),torch.tensor(weight_class_1).to(device))\n",
        "  weights = weights.squeeze(1)\n",
        "\n",
        "  predict = classifier(x)\n",
        "  predict = torch.nn.functional.softmax(predict,dim=0)\n",
        "\n",
        "  y = y.squeeze(1)\n",
        "  loss = criterion(predict,y.type(torch.long))\n",
        "  weighted_loss = loss * weights\n",
        "  weighted_loss = torch.mean(weighted_loss)\n",
        "  predict_class = torch.argmax(predict,dim=1)\n",
        "  batch_precision, batch_recall, batch_F1 = score_metrices(predict_class,y)\n",
        "\n",
        "  return weighted_loss, batch_precision, batch_recall, batch_F1"
      ],
      "execution_count": 9,
      "outputs": []
    },
    {
      "cell_type": "code",
      "metadata": {
        "id": "eZ2fNu-zzWme",
        "colab_type": "code",
        "colab": {}
      },
      "source": [
        "def run_train_val(epochs,print_every=1):\n",
        "  temp_dict = {'train_epoch_loss':[],'val_epoch_loss':[],'train_iter_loss':[],'val_iter_loss':[],\n",
        "            'train_epoch_precision':[],'val_epoch_precision':[],'train_iter_precision':[],'val_iter_precision':[],\n",
        "            'train_epoch_recall':[],'val_epoch_recall':[],'train_iter_recall':[],'val_iter_recall':[],\n",
        "            'train_epoch_F1':[],'val_epoch_F1':[],'train_iter_F1':[],'val_iter_F1':[]}\n",
        "  epoch_train_loss = []\n",
        "  epoch_val_loss = []\n",
        "  \n",
        "  start = timeit.default_timer()\n",
        "  for epoch in range(epochs):\n",
        "    classifier.train()\n",
        "    temp_train_loss = []\n",
        "    temp_train_precision = []\n",
        "    temp_train_recall = []\n",
        "    temp_train_F1 = []\n",
        "    for batch in train_dataloader:\n",
        "      loss, batch_precision, batch_recall, batch_F1 = train(batch)\n",
        "      temp_train_loss.append(loss.item())\n",
        "      temp_train_precision.append(batch_precision)\n",
        "      temp_train_recall.append(batch_recall)\n",
        "      temp_train_F1.append(batch_F1)\n",
        "      temp_dict['train_iter_loss'].append(loss.item())\n",
        "      temp_dict['train_iter_precision'].append(batch_precision)\n",
        "      temp_dict['train_iter_recall'].append(batch_recall)\n",
        "      temp_dict['train_iter_F1'].append(batch_F1)\n",
        "    temp_dict['train_epoch_loss'].append(np.mean(temp_train_loss))\n",
        "    temp_dict['train_epoch_precision'].append(np.mean(temp_train_precision))\n",
        "    temp_dict['train_epoch_recall'].append(np.mean(temp_train_recall))\n",
        "    temp_dict['train_epoch_F1'].append(np.mean(temp_train_F1))\n",
        "\n",
        "    if epoch % print_every == 0:\n",
        "      classifier.eval()\n",
        "      temp_val_loss = []\n",
        "      temp_val_precision = []\n",
        "      temp_val_recall = []\n",
        "      temp_val_F1 = []\n",
        "      with torch.no_grad():\n",
        "        for batch in val_dataloader:\n",
        "          loss, batch_precision, batch_recall, batch_F1 = validate(batch)\n",
        "          temp_val_loss.append(loss.item())\n",
        "          temp_val_precision.append(batch_precision)\n",
        "          temp_val_recall.append(batch_recall)\n",
        "          temp_val_F1.append(batch_F1)\n",
        "          temp_dict['val_iter_loss'].append(loss.item())\n",
        "          temp_dict['val_iter_precision'].append(batch_precision)\n",
        "          temp_dict['val_iter_recall'].append(batch_recall)\n",
        "          temp_dict['val_iter_F1'].append(batch_F1)\n",
        "      scheduler.step(loss)\n",
        "      temp_dict['val_epoch_loss'].append(np.mean(temp_val_loss))\n",
        "      temp_dict['val_epoch_precision'].append(np.mean(temp_val_precision))\n",
        "      temp_dict['val_epoch_recall'].append(np.mean(temp_val_recall))\n",
        "      temp_dict['val_epoch_F1'].append(np.mean(temp_val_F1))         \n",
        "      stop = timeit.default_timer()\n",
        "      print('epoch: {}.. took {}'.format(epoch,stop-start))\n",
        "      print(' ')\n",
        "      print('..train loss: {:.3f}  val loss {:.3f}..'.format(temp_dict['train_epoch_loss'][-1],temp_dict['val_epoch_loss'][-1]))\n",
        "      print('..train precision: {:.3f}  val precision {:.3f}..'.format(temp_dict['train_epoch_precision'][-1],temp_dict['val_epoch_precision'][-1]))\n",
        "      print('..train recall: {:.3f}  val recall {:.3f}..'.format(temp_dict['train_epoch_recall'][-1],temp_dict['val_epoch_recall'][-1]))\n",
        "      print('..train F1: {:.3f}  val F1 {:.3f}..'.format(temp_dict['train_epoch_F1'][-1],temp_dict['val_epoch_F1'][-1]))\n",
        "      print('-----------------------')\n",
        "      start = timeit.default_timer()\n",
        "  return temp_dict"
      ],
      "execution_count": 10,
      "outputs": []
    },
    {
      "cell_type": "markdown",
      "metadata": {
        "id": "sNbj7Tm6xs7o",
        "colab_type": "text"
      },
      "source": [
        "# Define the neural net model"
      ]
    },
    {
      "cell_type": "code",
      "metadata": {
        "id": "1vGsqf8exoIQ",
        "colab_type": "code",
        "colab": {}
      },
      "source": [
        "class MLP(torch.nn.Module):\n",
        "  def __init__(self,input_size,hidden_size1,hidden_size2,hidden_size3,dropout1,dropout2,dropout3):\n",
        "    super(MLP,self).__init__()\n",
        "    self.input_size = input_size\n",
        "    self.hidden_size1 = hidden_size1\n",
        "    self.hidden_size2 = hidden_size2\n",
        "    self.hidden_size3 = hidden_size3\n",
        "    self.dropout1 = nn.Dropout(dropout1)\n",
        "    self.dropout2 = nn.Dropout(dropout2)\n",
        "    self.dropout3 = nn.Dropout(dropout3)\n",
        "    \n",
        "    self.relu = torch.nn.ReLU()\n",
        "\n",
        "    self.fc1 = torch.nn.Linear(self.input_size,self.hidden_size1)\n",
        "    self.fc2 = torch.nn.Linear(self.hidden_size1,self.hidden_size2)\n",
        "    self.fc3 = torch.nn.Linear(self.hidden_size2,self.hidden_size3)\n",
        "    self.fc4 = torch.nn.Linear(self.hidden_size3,2)\n",
        "\n",
        "  def forward(self,x):\n",
        "    x = self.dropout1(self.relu(self.fc1(x)))\n",
        "    x = self.dropout2(self.relu(self.fc2(x)))\n",
        "    x = self.dropout3(self.relu(self.fc3(x)))\n",
        "    output = self.fc4(x)\n",
        "    return output"
      ],
      "execution_count": 11,
      "outputs": []
    },
    {
      "cell_type": "markdown",
      "metadata": {
        "id": "CELGjQpDzJWo",
        "colab_type": "text"
      },
      "source": [
        "# Train-validation"
      ]
    },
    {
      "cell_type": "code",
      "metadata": {
        "id": "APlACYnNumMg",
        "colab_type": "code",
        "colab": {}
      },
      "source": [
        "classifier = MLP(input_size = 29,hidden_size1=64,hidden_size2=32,hidden_size3=16,dropout1=0.4,dropout2=0.3,dropout3=0.2)\n",
        "learning_rate = 1e-3\n",
        "weight_decay = 0\n",
        "classifier = classifier.to(device)\n",
        "criterion = torch.nn.CrossEntropyLoss(reduction='none')\n",
        "optimizer = torch.optim.Adam(classifier.parameters(), lr=learning_rate,weight_decay=weight_decay)\n",
        "scheduler = torch.optim.lr_scheduler.ReduceLROnPlateau(optimizer, 'min',factor=0.75,patience=10,cooldown=20,verbose=True)"
      ],
      "execution_count": 12,
      "outputs": []
    },
    {
      "cell_type": "code",
      "metadata": {
        "id": "JjeR9smwwofX",
        "colab_type": "code",
        "colab": {
          "base_uri": "https://localhost:8080/",
          "height": 1000
        },
        "outputId": "527df7dd-ee6f-48b9-9483-048fc8a8e53e"
      },
      "source": [
        "temp_dict = run_train_val(200,print_every=10)"
      ],
      "execution_count": 13,
      "outputs": [
        {
          "output_type": "stream",
          "text": [
            "epoch: 0.. took 2.660421806000045\n",
            " \n",
            "..train loss: 0.002  val loss 0.002..\n",
            "..train precision: 0.002  val precision 0.003..\n",
            "..train recall: 0.607  val recall 0.980..\n",
            "..train F1: 0.004  val F1 0.007..\n",
            "-----------------------\n",
            "epoch: 10.. took 20.237901423999915\n",
            " \n",
            "..train loss: 0.002  val loss 0.002..\n",
            "..train precision: 0.008  val precision 0.778..\n",
            "..train recall: 0.839  val recall 0.879..\n",
            "..train F1: 0.017  val F1 0.798..\n",
            "-----------------------\n",
            "epoch: 20.. took 19.854723913000043\n",
            " \n",
            "..train loss: 0.002  val loss 0.002..\n",
            "..train precision: 0.030  val precision 0.797..\n",
            "..train recall: 0.842  val recall 0.855..\n",
            "..train F1: 0.058  val F1 0.814..\n",
            "-----------------------\n",
            "epoch: 30.. took 19.778986145999966\n",
            " \n",
            "..train loss: 0.002  val loss 0.002..\n",
            "..train precision: 0.053  val precision 0.740..\n",
            "..train recall: 0.838  val recall 0.865..\n",
            "..train F1: 0.098  val F1 0.788..\n",
            "-----------------------\n",
            "epoch: 40.. took 19.805666768999913\n",
            " \n",
            "..train loss: 0.002  val loss 0.002..\n",
            "..train precision: 0.179  val precision 0.767..\n",
            "..train recall: 0.810  val recall 0.842..\n",
            "..train F1: 0.286  val F1 0.793..\n",
            "-----------------------\n",
            "epoch: 50.. took 19.516081782000015\n",
            " \n",
            "..train loss: 0.002  val loss 0.002..\n",
            "..train precision: 0.662  val precision 0.829..\n",
            "..train recall: 0.804  val recall 0.836..\n",
            "..train F1: 0.706  val F1 0.815..\n",
            "-----------------------\n",
            "epoch: 60.. took 19.605688480000026\n",
            " \n",
            "..train loss: 0.002  val loss 0.002..\n",
            "..train precision: 0.782  val precision 0.834..\n",
            "..train recall: 0.781  val recall 0.834..\n",
            "..train F1: 0.768  val F1 0.826..\n",
            "-----------------------\n",
            "epoch: 70.. took 19.456994863999967\n",
            " \n",
            "..train loss: 0.002  val loss 0.002..\n",
            "..train precision: 0.777  val precision 0.809..\n",
            "..train recall: 0.780  val recall 0.811..\n",
            "..train F1: 0.769  val F1 0.804..\n",
            "-----------------------\n",
            "epoch: 80.. took 19.337187619999895\n",
            " \n",
            "..train loss: 0.002  val loss 0.002..\n",
            "..train precision: 0.715  val precision 0.830..\n",
            "..train recall: 0.779  val recall 0.870..\n",
            "..train F1: 0.734  val F1 0.835..\n",
            "-----------------------\n",
            "epoch: 90.. took 19.301488485999926\n",
            " \n",
            "..train loss: 0.002  val loss 0.002..\n",
            "..train precision: 0.808  val precision 0.812..\n",
            "..train recall: 0.791  val recall 0.842..\n",
            "..train F1: 0.787  val F1 0.802..\n",
            "-----------------------\n",
            "epoch: 100.. took 19.33365835099994\n",
            " \n",
            "..train loss: 0.002  val loss 0.002..\n",
            "..train precision: 0.820  val precision 0.832..\n",
            "..train recall: 0.775  val recall 0.814..\n",
            "..train F1: 0.783  val F1 0.814..\n",
            "-----------------------\n",
            "epoch: 110.. took 19.152560444999835\n",
            " \n",
            "..train loss: 0.002  val loss 0.002..\n",
            "..train precision: 0.832  val precision 0.852..\n",
            "..train recall: 0.790  val recall 0.819..\n",
            "..train F1: 0.792  val F1 0.825..\n",
            "-----------------------\n",
            "epoch: 120.. took 19.219427128000007\n",
            " \n",
            "..train loss: 0.002  val loss 0.002..\n",
            "..train precision: 0.857  val precision 0.831..\n",
            "..train recall: 0.780  val recall 0.766..\n",
            "..train F1: 0.802  val F1 0.794..\n",
            "-----------------------\n",
            "epoch: 130.. took 19.188374919000125\n",
            " \n",
            "..train loss: 0.002  val loss 0.002..\n",
            "..train precision: 0.841  val precision 0.887..\n",
            "..train recall: 0.768  val recall 0.824..\n",
            "..train F1: 0.790  val F1 0.838..\n",
            "-----------------------\n",
            "Epoch    15: reducing learning rate of group 0 to 7.5000e-04.\n",
            "epoch: 140.. took 19.096942229999968\n",
            " \n",
            "..train loss: 0.002  val loss 0.002..\n",
            "..train precision: 0.884  val precision 0.881..\n",
            "..train recall: 0.764  val recall 0.808..\n",
            "..train F1: 0.809  val F1 0.836..\n",
            "-----------------------\n",
            "epoch: 150.. took 19.06289626900002\n",
            " \n",
            "..train loss: 0.002  val loss 0.002..\n",
            "..train precision: 0.871  val precision 0.897..\n",
            "..train recall: 0.787  val recall 0.827..\n",
            "..train F1: 0.819  val F1 0.844..\n",
            "-----------------------\n",
            "epoch: 160.. took 19.26511576400003\n",
            " \n",
            "..train loss: 0.002  val loss 0.002..\n",
            "..train precision: 0.870  val precision 0.863..\n",
            "..train recall: 0.773  val recall 0.850..\n",
            "..train F1: 0.803  val F1 0.852..\n",
            "-----------------------\n",
            "epoch: 170.. took 19.39091921499994\n",
            " \n",
            "..train loss: 0.002  val loss 0.002..\n",
            "..train precision: 0.869  val precision 0.858..\n",
            "..train recall: 0.772  val recall 0.858..\n",
            "..train F1: 0.797  val F1 0.849..\n",
            "-----------------------\n",
            "epoch: 180.. took 19.029715257000134\n",
            " \n",
            "..train loss: 0.002  val loss 0.002..\n",
            "..train precision: 0.864  val precision 0.804..\n",
            "..train recall: 0.774  val recall 0.783..\n",
            "..train F1: 0.805  val F1 0.788..\n",
            "-----------------------\n",
            "epoch: 190.. took 19.121813481000117\n",
            " \n",
            "..train loss: 0.002  val loss 0.002..\n",
            "..train precision: 0.875  val precision 0.878..\n",
            "..train recall: 0.774  val recall 0.817..\n",
            "..train F1: 0.810  val F1 0.836..\n",
            "-----------------------\n"
          ],
          "name": "stdout"
        }
      ]
    },
    {
      "cell_type": "code",
      "metadata": {
        "id": "gzQrQG2izdsL",
        "colab_type": "code",
        "colab": {
          "base_uri": "https://localhost:8080/",
          "height": 680
        },
        "outputId": "273dd1ce-8926-405d-9097-88485e96f279"
      },
      "source": [
        "fig, ax = plt.subplots(2,2,figsize=(10,10))\n",
        "ax[0,0].plot(temp_dict['val_epoch_loss'])\n",
        "ax[0,0].set_title('epoch loss')\n",
        "ax[0,1].plot(temp_dict['val_epoch_precision'])\n",
        "ax[0,1].set_title('epoch precision')\n",
        "ax[1,0].plot(temp_dict['val_epoch_recall'])\n",
        "ax[1,0].set_title('epoch reall')\n",
        "ax[1,1].plot(temp_dict['val_epoch_F1'])\n",
        "ax[1,1].set_title('epoch F1')\n",
        "plt.suptitle('validation scores')"
      ],
      "execution_count": 14,
      "outputs": [
        {
          "output_type": "execute_result",
          "data": {
            "text/plain": [
              "Text(0.5, 0.98, 'validation scores')"
            ]
          },
          "metadata": {
            "tags": []
          },
          "execution_count": 14
        },
        {
          "output_type": "display_data",
          "data": {
            "image/png": "[encoded data removed]",
            "text/plain": [
              "<Figure size 720x720 with 4 Axes>"
            ]
          },
          "metadata": {
            "tags": [],
            "needs_background": "light"
          }
        }
      ]
    },
    {
      "cell_type": "code",
      "metadata": {
        "id": "62R4go6VztUI",
        "colab_type": "code",
        "colab": {}
      },
      "source": [
        "torch.save(classifier.state_dict(), 'credit_card_fraud_classifier.pt')"
      ],
      "execution_count": null,
      "outputs": []
    }
  ]
}